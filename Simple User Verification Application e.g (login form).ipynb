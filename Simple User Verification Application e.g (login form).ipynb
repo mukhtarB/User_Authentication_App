{
 "cells": [
  {
   "cell_type": "code",
   "execution_count": 1,
   "metadata": {},
   "outputs": [
    {
     "name": "stdout",
     "output_type": "stream",
     "text": [
      "Enter your name:tunde badrew\n",
      "Enter your email:tunde@email.com\n",
      "Enter your password:1234\n",
      "\n",
      "\n",
      "\n",
      "Access Denied!\n"
     ]
    }
   ],
   "source": [
    "#Trial Method 4\n",
    "database = \"tunde badrew---tunde@email.com---12345, Yemi Adeyemi---yemA@yahoo.com---68456, Katar Dallas---katar@hotmail.com---75931\"\n",
    "\n",
    "username = str(input(\"Enter your name:\"))\n",
    "email = str(input(\"Enter your email:\"))\n",
    "password = str(input(\"Enter your password:\"))\n",
    "\n",
    "\n",
    "x = username + \"---\" + email + \"---\" + password\n",
    "\n",
    "print(\"\\n\\r\")\n",
    "y = database.split(\", \")\n",
    "#print(y)\n",
    "\n",
    "if (x in y):\n",
    "    print(\"\\n\\rAccess Granted!\")\n",
    "\n",
    "else:\n",
    "    print(\"\\n\\rAccess Denied!\")\n",
    "    \n",
    "#Eureka!!"
   ]
  }
 ],
 "metadata": {
  "kernelspec": {
   "display_name": "Python 3",
   "language": "python",
   "name": "python3"
  },
  "language_info": {
   "codemirror_mode": {
    "name": "ipython",
    "version": 3
   },
   "file_extension": ".py",
   "mimetype": "text/x-python",
   "name": "python",
   "nbconvert_exporter": "python",
   "pygments_lexer": "ipython3",
   "version": "3.7.3"
  }
 },
 "nbformat": 4,
 "nbformat_minor": 2
}
